{
  "nbformat": 4,
  "nbformat_minor": 0,
  "metadata": {
    "colab": {
      "name": "mobappdata.ipynb",
      "version": "0.3.2",
      "provenance": [],
      "collapsed_sections": []
    },
    "kernelspec": {
      "name": "python3",
      "display_name": "Python 3"
    }
  },
  "cells": [
    {
      "cell_type": "code",
      "metadata": {
        "id": "gm_RXWU3WPPO",
        "colab_type": "code",
        "colab": {}
      },
      "source": [
        "import pandas as pd\n",
        "import numpy as np\n",
        "from matplotlib import pyplot as plt\n",
        "import seaborn as sns\n",
        "%matplotlib inline\n",
        "from sklearn.preprocessing import StandardScaler\n",
        "from sklearn.preprocessing import MinMaxScaler\n",
        "from sklearn.cluster import KMeans\n",
        "from sklearn.metrics import silhouette_score\n",
        "from yellowbrick.cluster import KElbowVisualizer\n",
        "from sklearn.cluster import DBSCAN\n",
        "from sklearn.cluster import AgglomerativeClustering\n",
        "from scipy.spatial.distance import pdist\n",
        "from scipy.cluster.hierarchy import dendrogram, linkage, fcluster\n",
        "from sklearn.mixture import GaussianMixture"
      ],
      "execution_count": 0,
      "outputs": []
    },
    {
      "cell_type": "code",
      "metadata": {
        "id": "VhEK4HqIZfdF",
        "colab_type": "code",
        "colab": {}
      },
      "source": [
        "url = 'https://raw.githubusercontent.com/marinaborozan/IP_projekat/master/app-store-apple-data-set-10k-apps/AppleStore.csv'\n",
        "df = pd.read_csv(url)"
      ],
      "execution_count": 0,
      "outputs": []
    },
    {
      "cell_type": "code",
      "metadata": {
        "id": "CQI1kGGkTYNz",
        "colab_type": "code",
        "outputId": "a8db559b-c2a3-401d-d537-d5f92c271f60",
        "colab": {
          "base_uri": "https://localhost:8080/",
          "height": 421
        }
      },
      "source": [
        "df.info()"
      ],
      "execution_count": 0,
      "outputs": [
        {
          "output_type": "stream",
          "text": [
            "<class 'pandas.core.frame.DataFrame'>\n",
            "RangeIndex: 7197 entries, 0 to 7196\n",
            "Data columns (total 17 columns):\n",
            "Unnamed: 0          7197 non-null int64\n",
            "id                  7197 non-null int64\n",
            "track_name          7197 non-null object\n",
            "size_bytes          7197 non-null int64\n",
            "currency            7197 non-null object\n",
            "price               7197 non-null float64\n",
            "rating_count_tot    7197 non-null int64\n",
            "rating_count_ver    7197 non-null int64\n",
            "user_rating         7197 non-null float64\n",
            "user_rating_ver     7197 non-null float64\n",
            "ver                 7197 non-null object\n",
            "cont_rating         7197 non-null object\n",
            "prime_genre         7197 non-null object\n",
            "sup_devices.num     7197 non-null int64\n",
            "ipadSc_urls.num     7197 non-null int64\n",
            "lang.num            7197 non-null int64\n",
            "vpp_lic             7197 non-null int64\n",
            "dtypes: float64(3), int64(9), object(5)\n",
            "memory usage: 955.9+ KB\n"
          ],
          "name": "stdout"
        }
      ]
    },
    {
      "cell_type": "code",
      "metadata": {
        "id": "31KCYS0edg0p",
        "colab_type": "code",
        "outputId": "88f39c27-bfcf-4888-d478-57c84c4e29d1",
        "colab": {
          "base_uri": "https://localhost:8080/",
          "height": 348
        }
      },
      "source": [
        "df.isnull().sum()"
      ],
      "execution_count": 0,
      "outputs": [
        {
          "output_type": "execute_result",
          "data": {
            "text/plain": [
              "Unnamed: 0          0\n",
              "id                  0\n",
              "track_name          0\n",
              "size_bytes          0\n",
              "currency            0\n",
              "price               0\n",
              "rating_count_tot    0\n",
              "rating_count_ver    0\n",
              "user_rating         0\n",
              "user_rating_ver     0\n",
              "ver                 0\n",
              "cont_rating         0\n",
              "prime_genre         0\n",
              "sup_devices.num     0\n",
              "ipadSc_urls.num     0\n",
              "lang.num            0\n",
              "vpp_lic             0\n",
              "dtype: int64"
            ]
          },
          "metadata": {
            "tags": []
          },
          "execution_count": 9
        }
      ]
    },
    {
      "cell_type": "code",
      "metadata": {
        "id": "NbCBcPjUOLcU",
        "colab_type": "code",
        "outputId": "24dd5d4b-1acd-4648-c394-1f514aad5557",
        "colab": {
          "base_uri": "https://localhost:8080/",
          "height": 206
        }
      },
      "source": [
        "rating_count_sorted = df.sort_values(by = ['rating_count_tot'], ascending = False)\n",
        "rating_count_top5 = rating_count_sorted[:5]\n",
        "rating_count_top5.iloc[:,[2,5,6,7,8,9,12]]"
      ],
      "execution_count": 89,
      "outputs": [
        {
          "output_type": "execute_result",
          "data": {
            "text/html": [
              "<div>\n",
              "<style scoped>\n",
              "    .dataframe tbody tr th:only-of-type {\n",
              "        vertical-align: middle;\n",
              "    }\n",
              "\n",
              "    .dataframe tbody tr th {\n",
              "        vertical-align: top;\n",
              "    }\n",
              "\n",
              "    .dataframe thead th {\n",
              "        text-align: right;\n",
              "    }\n",
              "</style>\n",
              "<table border=\"1\" class=\"dataframe\">\n",
              "  <thead>\n",
              "    <tr style=\"text-align: right;\">\n",
              "      <th></th>\n",
              "      <th>track_name</th>\n",
              "      <th>price</th>\n",
              "      <th>rating_count_tot</th>\n",
              "      <th>rating_count_ver</th>\n",
              "      <th>user_rating</th>\n",
              "      <th>user_rating_ver</th>\n",
              "      <th>prime_genre</th>\n",
              "    </tr>\n",
              "  </thead>\n",
              "  <tbody>\n",
              "    <tr>\n",
              "      <th>16</th>\n",
              "      <td>Facebook</td>\n",
              "      <td>0.0</td>\n",
              "      <td>2974676</td>\n",
              "      <td>212</td>\n",
              "      <td>3.5</td>\n",
              "      <td>3.5</td>\n",
              "      <td>Social Networking</td>\n",
              "    </tr>\n",
              "    <tr>\n",
              "      <th>519</th>\n",
              "      <td>Instagram</td>\n",
              "      <td>0.0</td>\n",
              "      <td>2161558</td>\n",
              "      <td>1289</td>\n",
              "      <td>4.5</td>\n",
              "      <td>4.0</td>\n",
              "      <td>Photo &amp; Video</td>\n",
              "    </tr>\n",
              "    <tr>\n",
              "      <th>1346</th>\n",
              "      <td>Clash of Clans</td>\n",
              "      <td>0.0</td>\n",
              "      <td>2130805</td>\n",
              "      <td>579</td>\n",
              "      <td>4.5</td>\n",
              "      <td>4.5</td>\n",
              "      <td>Games</td>\n",
              "    </tr>\n",
              "    <tr>\n",
              "      <th>707</th>\n",
              "      <td>Temple Run</td>\n",
              "      <td>0.0</td>\n",
              "      <td>1724546</td>\n",
              "      <td>3842</td>\n",
              "      <td>4.5</td>\n",
              "      <td>4.0</td>\n",
              "      <td>Games</td>\n",
              "    </tr>\n",
              "    <tr>\n",
              "      <th>7</th>\n",
              "      <td>Pandora - Music &amp; Radio</td>\n",
              "      <td>0.0</td>\n",
              "      <td>1126879</td>\n",
              "      <td>3594</td>\n",
              "      <td>4.0</td>\n",
              "      <td>4.5</td>\n",
              "      <td>Music</td>\n",
              "    </tr>\n",
              "  </tbody>\n",
              "</table>\n",
              "</div>"
            ],
            "text/plain": [
              "                   track_name  price  ...  user_rating_ver        prime_genre\n",
              "16                   Facebook    0.0  ...              3.5  Social Networking\n",
              "519                 Instagram    0.0  ...              4.0      Photo & Video\n",
              "1346           Clash of Clans    0.0  ...              4.5              Games\n",
              "707                Temple Run    0.0  ...              4.0              Games\n",
              "7     Pandora - Music & Radio    0.0  ...              4.5              Music\n",
              "\n",
              "[5 rows x 7 columns]"
            ]
          },
          "metadata": {
            "tags": []
          },
          "execution_count": 89
        }
      ]
    },
    {
      "cell_type": "code",
      "metadata": {
        "id": "FCWPUu41OpSE",
        "colab_type": "code",
        "outputId": "432e7ee6-619b-4ba1-b3e0-8c24cbd843f6",
        "colab": {
          "base_uri": "https://localhost:8080/",
          "height": 206
        }
      },
      "source": [
        "user_rating_sorted = df.sort_values(by = ['user_rating'], ascending = False)\n",
        "user_rating_top5 = user_rating_sorted[:5]\n",
        "user_rating_top5.iloc[:,[2,5,6,7,8,9,12]]"
      ],
      "execution_count": 90,
      "outputs": [
        {
          "output_type": "execute_result",
          "data": {
            "text/html": [
              "<div>\n",
              "<style scoped>\n",
              "    .dataframe tbody tr th:only-of-type {\n",
              "        vertical-align: middle;\n",
              "    }\n",
              "\n",
              "    .dataframe tbody tr th {\n",
              "        vertical-align: top;\n",
              "    }\n",
              "\n",
              "    .dataframe thead th {\n",
              "        text-align: right;\n",
              "    }\n",
              "</style>\n",
              "<table border=\"1\" class=\"dataframe\">\n",
              "  <thead>\n",
              "    <tr style=\"text-align: right;\">\n",
              "      <th></th>\n",
              "      <th>track_name</th>\n",
              "      <th>price</th>\n",
              "      <th>rating_count_tot</th>\n",
              "      <th>rating_count_ver</th>\n",
              "      <th>user_rating</th>\n",
              "      <th>user_rating_ver</th>\n",
              "      <th>prime_genre</th>\n",
              "    </tr>\n",
              "  </thead>\n",
              "  <tbody>\n",
              "    <tr>\n",
              "      <th>7196</th>\n",
              "      <td>Escape the Sweet Shop Series</td>\n",
              "      <td>0.00</td>\n",
              "      <td>3</td>\n",
              "      <td>3</td>\n",
              "      <td>5.0</td>\n",
              "      <td>5.0</td>\n",
              "      <td>Games</td>\n",
              "    </tr>\n",
              "    <tr>\n",
              "      <th>6231</th>\n",
              "      <td>激おこ!! はじめしゃちょー　なんなんですか!?</td>\n",
              "      <td>0.00</td>\n",
              "      <td>1</td>\n",
              "      <td>1</td>\n",
              "      <td>5.0</td>\n",
              "      <td>5.0</td>\n",
              "      <td>Games</td>\n",
              "    </tr>\n",
              "    <tr>\n",
              "      <th>2531</th>\n",
              "      <td>Mini Metro</td>\n",
              "      <td>4.99</td>\n",
              "      <td>4064</td>\n",
              "      <td>338</td>\n",
              "      <td>5.0</td>\n",
              "      <td>5.0</td>\n",
              "      <td>Games</td>\n",
              "    </tr>\n",
              "    <tr>\n",
              "      <th>2530</th>\n",
              "      <td>Wayfair - Shop Furniture, Home Decor, Daily Sales</td>\n",
              "      <td>0.00</td>\n",
              "      <td>12578</td>\n",
              "      <td>146</td>\n",
              "      <td>5.0</td>\n",
              "      <td>5.0</td>\n",
              "      <td>Shopping</td>\n",
              "    </tr>\n",
              "    <tr>\n",
              "      <th>4885</th>\n",
              "      <td>Mystic Castle - the Simplest &amp; Best RPG and Ad...</td>\n",
              "      <td>0.00</td>\n",
              "      <td>650</td>\n",
              "      <td>488</td>\n",
              "      <td>5.0</td>\n",
              "      <td>4.5</td>\n",
              "      <td>Games</td>\n",
              "    </tr>\n",
              "  </tbody>\n",
              "</table>\n",
              "</div>"
            ],
            "text/plain": [
              "                                             track_name  ...  prime_genre\n",
              "7196                       Escape the Sweet Shop Series  ...        Games\n",
              "6231                           激おこ!! はじめしゃちょー　なんなんですか!?  ...        Games\n",
              "2531                                         Mini Metro  ...        Games\n",
              "2530  Wayfair - Shop Furniture, Home Decor, Daily Sales  ...     Shopping\n",
              "4885  Mystic Castle - the Simplest & Best RPG and Ad...  ...        Games\n",
              "\n",
              "[5 rows x 7 columns]"
            ]
          },
          "metadata": {
            "tags": []
          },
          "execution_count": 90
        }
      ]
    },
    {
      "cell_type": "code",
      "metadata": {
        "id": "MHKetUDcR-Ea",
        "colab_type": "code",
        "outputId": "98b20685-c3bd-4e35-ecc2-dcd170937c59",
        "colab": {
          "base_uri": "https://localhost:8080/",
          "height": 349
        }
      },
      "source": [
        "plt.figure(figsize=(8,5))\n",
        "plt.hist(df['price'], log = True, color = 'olive')\n",
        "plt.title('Raspodela atributa cena')\n",
        "plt.ylabel(\"Frequency (log)\")\n",
        "plt.xlabel(\"Price (USD)\")\n",
        "plt.show()"
      ],
      "execution_count": 0,
      "outputs": [
        {
          "output_type": "display_data",
          "data": {
            "image/png": "[encoded data removed]",
            "text/plain": [
              "<Figure size 576x360 with 1 Axes>"
            ]
          },
          "metadata": {
            "tags": []
          }
        }
      ]
    },
    {
      "cell_type": "code",
      "metadata": {
        "id": "_KMMLUWw1HX9",
        "colab_type": "code",
        "outputId": "35e27b9d-c098-4f0b-d1bd-9860f66bcaf6",
        "colab": {
          "base_uri": "https://localhost:8080/",
          "height": 349
        }
      },
      "source": [
        "plt.figure(figsize=(8,5))\n",
        "plt.hist(df['user_rating'], log = True, color = 'orange')\n",
        "plt.title('Raspodela atributa prosecne ocene korisnika')\n",
        "plt.ylabel(\"Frequency (log)\")\n",
        "plt.xlabel(\"User rating\")\n",
        "plt.show()"
      ],
      "execution_count": 0,
      "outputs": [
        {
          "output_type": "display_data",
          "data": {
            "image/png": "[encoded data removed]",
            "text/plain": [
              "<Figure size 576x360 with 1 Axes>"
            ]
          },
          "metadata": {
            "tags": []
          }
        }
      ]
    },
    {
      "cell_type": "code",
      "metadata": {
        "id": "FFEExhktVCPH",
        "colab_type": "code",
        "colab": {}
      },
      "source": [
        "df['free'] = df['price'].apply(lambda x: 0 if x > 0 else 1)\n",
        "free_apps = df['free'] == 1\n",
        "paid_apps = df['free'] == 0"
      ],
      "execution_count": 0,
      "outputs": []
    },
    {
      "cell_type": "code",
      "metadata": {
        "id": "r12Xp9EuloxG",
        "colab_type": "code",
        "outputId": "1edd3de5-586f-4042-b815-544d839702e4",
        "colab": {
          "base_uri": "https://localhost:8080/",
          "height": 441
        }
      },
      "source": [
        "fig = plt.figure(figsize=(15,6))\n",
        "fig.add_subplot(1,2,1)  \n",
        "plt.title('Broj besplatnih aplikacija po kategorijama')\n",
        "sns.countplot(y = df[free_apps][\"prime_genre\"], order = df[free_apps][\"prime_genre\"].value_counts().index)\n",
        "fig.add_subplot(1,2,2) \n",
        "plt.title('Broj aplikacija koje nisu besplatne po kategorijama')\n",
        "sns.countplot(y = df[paid_apps][\"prime_genre\"],order = df[paid_apps][\"prime_genre\"].value_counts().index) \n",
        "plt.tight_layout()\n",
        "plt.show()"
      ],
      "execution_count": 0,
      "outputs": [
        {
          "output_type": "display_data",
          "data": {
            "image/png": "[encoded data removed]",
            "text/plain": [
              "<Figure size 1080x432 with 2 Axes>"
            ]
          },
          "metadata": {
            "tags": []
          }
        }
      ]
    },
    {
      "cell_type": "code",
      "metadata": {
        "id": "1Wgg5yCZsYu_",
        "colab_type": "code",
        "colab": {}
      },
      "source": [
        "#b to Mb\n",
        "df['size_megabytes'] = (df['size_bytes']\n",
        "                    .apply (lambda x: (x / (1024 * 1024.0))))\n",
        "\n",
        "df.drop('size_bytes', axis = 1, inplace = True)"
      ],
      "execution_count": 0,
      "outputs": []
    },
    {
      "cell_type": "code",
      "metadata": {
        "id": "-Mt3ETUxh6P5",
        "colab_type": "code",
        "outputId": "0ecf0e18-10f8-43c7-d2a4-c282c9a4acab",
        "colab": {
          "base_uri": "https://localhost:8080/",
          "height": 512
        }
      },
      "source": [
        "plt.figure(figsize = (15,8))\n",
        "plt.title('Velicina aplikacija u MB po kategorijama')\n",
        "sns.barplot(y = df[\"prime_genre\"], x = (df[\"size_megabytes\"]), ci = None)"
      ],
      "execution_count": 0,
      "outputs": [
        {
          "output_type": "display_data",
          "data": {
            "image/png": "[encoded data removed]",
            "text/plain": [
              "<Figure size 1080x576 with 1 Axes>"
            ]
          },
          "metadata": {
            "tags": []
          }
        }
      ]
    },
    {
      "cell_type": "code",
      "metadata": {
        "id": "_nirv92Epsd4",
        "colab_type": "code",
        "colab": {}
      },
      "source": [
        "#reduce genre\n",
        "\n",
        "def reduce_genre(x):\n",
        "  if(x == \"Games\"):\n",
        "    return str(1)\n",
        "  elif(x == \"Entertainment\"):\n",
        "    return str(2)\n",
        "  elif(x == \"Education\"):\n",
        "    return str(3)\n",
        "  elif(x == \"Photo & Video\"):\n",
        "    return str(4)\n",
        "  else:\n",
        "    return str(5)\n",
        "  \n",
        "df['prime_genre'] = (df['prime_genre']\n",
        "            .apply (lambda x: reduce_genre(x))\n",
        "            .astype (int))\n",
        "\n",
        "#is game\n",
        "df['game'] = df['prime_genre'].apply(lambda x: 1 if x == 1 else 0)"
      ],
      "execution_count": 0,
      "outputs": []
    },
    {
      "cell_type": "code",
      "metadata": {
        "id": "GPdkkE5LR3YB",
        "colab_type": "code",
        "colab": {}
      },
      "source": [
        "#cleaning data\n",
        "\n",
        "df['vpp_lic'] = df['vpp_lic'].astype('bool') \n",
        "df.drop('currency', axis = 1, inplace = True)\n",
        "df.drop('Unnamed: 0', axis = 1, inplace = True)\n",
        "df.drop('track_name', axis = 1, inplace = True)\n",
        "df.drop('id', axis = 1, inplace = True)\n",
        "df = df.drop(df[df.price > 50].index)\n",
        "df['cont_rating'] = (df['cont_rating']\n",
        "                    .apply   (lambda x: x.replace('+',''))\n",
        "                    .astype  (int))\n",
        "\n",
        "df = df[df.user_rating != 0]"
      ],
      "execution_count": 0,
      "outputs": []
    },
    {
      "cell_type": "code",
      "metadata": {
        "id": "JSzco28mpzwG",
        "colab_type": "code",
        "colab": {}
      },
      "source": [
        "#function for version simplifying\n",
        "\n",
        "def simplify_version(x):\n",
        "  if(x[0] == \"v\" or x[0] == \"V\"):\n",
        "    return str(x[1])\n",
        "  elif(x[0] == \"i\"):\n",
        "    return str(2)\n",
        "  elif(x.startswith('Update')):\n",
        "    return str(1)\n",
        "  elif(len(x) > 1 and x[1] == \",\"): \n",
        "    return x.split(\",\")[0]\n",
        "  else: \n",
        "    return x.split(\".\")[0]\n",
        "    \n",
        "df['ver'] = (df['ver']\n",
        "            .apply (lambda x: simplify_version(x))\n",
        "            .astype (int))"
      ],
      "execution_count": 0,
      "outputs": []
    },
    {
      "cell_type": "code",
      "metadata": {
        "id": "2oVFjNXSOqWD",
        "colab_type": "code",
        "outputId": "771ed6de-6c5b-41e2-a025-f424cf4a3e86",
        "colab": {
          "base_uri": "https://localhost:8080/",
          "height": 384
        }
      },
      "source": [
        "df.info()"
      ],
      "execution_count": 0,
      "outputs": [
        {
          "output_type": "stream",
          "text": [
            "<class 'pandas.core.frame.DataFrame'>\n",
            "Int64Index: 6261 entries, 0 to 7196\n",
            "Data columns (total 15 columns):\n",
            "price               6261 non-null float64\n",
            "rating_count_tot    6261 non-null int64\n",
            "rating_count_ver    6261 non-null int64\n",
            "user_rating         6261 non-null float64\n",
            "user_rating_ver     6261 non-null float64\n",
            "ver                 6261 non-null int64\n",
            "cont_rating         6261 non-null int64\n",
            "prime_genre         6261 non-null int64\n",
            "sup_devices.num     6261 non-null int64\n",
            "ipadSc_urls.num     6261 non-null int64\n",
            "lang.num            6261 non-null int64\n",
            "vpp_lic             6261 non-null bool\n",
            "free                6261 non-null int64\n",
            "size_megabytes      6261 non-null float64\n",
            "game                6261 non-null int64\n",
            "dtypes: bool(1), float64(4), int64(10)\n",
            "memory usage: 739.8 KB\n"
          ],
          "name": "stdout"
        }
      ]
    },
    {
      "cell_type": "code",
      "metadata": {
        "id": "rM_ss-wGKlqT",
        "colab_type": "code",
        "colab": {}
      },
      "source": [
        "#SCALING DATA\n",
        "\n",
        "features = df.columns\n",
        "scaler = MinMaxScaler().fit(df[features])\n",
        "x = pd.DataFrame(scaler.transform(df[features]))\n",
        "x.columns = features"
      ],
      "execution_count": 0,
      "outputs": []
    },
    {
      "cell_type": "code",
      "metadata": {
        "colab_type": "code",
        "id": "PNACUcTVGkyf",
        "outputId": "cbbdd97f-44b9-4f22-816e-9c335e5b8bd4",
        "colab": {
          "base_uri": "https://localhost:8080/",
          "height": 35
        }
      },
      "source": [
        "#DBSCAN\n",
        "\n",
        "dbscan = DBSCAN(eps=0.5, min_samples=10)\n",
        "dbscan.fit_predict(x)\n",
        "max(dbscan.labels_)"
      ],
      "execution_count": 0,
      "outputs": [
        {
          "output_type": "execute_result",
          "data": {
            "text/plain": [
              "3"
            ]
          },
          "metadata": {
            "tags": []
          },
          "execution_count": 23
        }
      ]
    },
    {
      "cell_type": "code",
      "metadata": {
        "id": "uK2aZd-RE-9Y",
        "colab_type": "code",
        "outputId": "6324624d-c771-413c-b372-054511161aab",
        "colab": {
          "base_uri": "https://localhost:8080/",
          "height": 258
        }
      },
      "source": [
        "df['labels'] = dbscan.labels_\n",
        "df.groupby('labels').count()"
      ],
      "execution_count": 0,
      "outputs": [
        {
          "output_type": "execute_result",
          "data": {
            "text/html": [
              "<div>\n",
              "<style scoped>\n",
              "    .dataframe tbody tr th:only-of-type {\n",
              "        vertical-align: middle;\n",
              "    }\n",
              "\n",
              "    .dataframe tbody tr th {\n",
              "        vertical-align: top;\n",
              "    }\n",
              "\n",
              "    .dataframe thead th {\n",
              "        text-align: right;\n",
              "    }\n",
              "</style>\n",
              "<table border=\"1\" class=\"dataframe\">\n",
              "  <thead>\n",
              "    <tr style=\"text-align: right;\">\n",
              "      <th></th>\n",
              "      <th>price</th>\n",
              "      <th>rating_count_tot</th>\n",
              "      <th>rating_count_ver</th>\n",
              "      <th>user_rating</th>\n",
              "      <th>user_rating_ver</th>\n",
              "      <th>ver</th>\n",
              "      <th>cont_rating</th>\n",
              "      <th>prime_genre</th>\n",
              "      <th>sup_devices.num</th>\n",
              "      <th>ipadSc_urls.num</th>\n",
              "      <th>lang.num</th>\n",
              "      <th>vpp_lic</th>\n",
              "      <th>free</th>\n",
              "      <th>size_megabytes</th>\n",
              "      <th>game</th>\n",
              "    </tr>\n",
              "    <tr>\n",
              "      <th>labels</th>\n",
              "      <th></th>\n",
              "      <th></th>\n",
              "      <th></th>\n",
              "      <th></th>\n",
              "      <th></th>\n",
              "      <th></th>\n",
              "      <th></th>\n",
              "      <th></th>\n",
              "      <th></th>\n",
              "      <th></th>\n",
              "      <th></th>\n",
              "      <th></th>\n",
              "      <th></th>\n",
              "      <th></th>\n",
              "      <th></th>\n",
              "    </tr>\n",
              "  </thead>\n",
              "  <tbody>\n",
              "    <tr>\n",
              "      <th>-1</th>\n",
              "      <td>78</td>\n",
              "      <td>78</td>\n",
              "      <td>78</td>\n",
              "      <td>78</td>\n",
              "      <td>78</td>\n",
              "      <td>78</td>\n",
              "      <td>78</td>\n",
              "      <td>78</td>\n",
              "      <td>78</td>\n",
              "      <td>78</td>\n",
              "      <td>78</td>\n",
              "      <td>78</td>\n",
              "      <td>78</td>\n",
              "      <td>78</td>\n",
              "      <td>78</td>\n",
              "    </tr>\n",
              "    <tr>\n",
              "      <th>0</th>\n",
              "      <td>1476</td>\n",
              "      <td>1476</td>\n",
              "      <td>1476</td>\n",
              "      <td>1476</td>\n",
              "      <td>1476</td>\n",
              "      <td>1476</td>\n",
              "      <td>1476</td>\n",
              "      <td>1476</td>\n",
              "      <td>1476</td>\n",
              "      <td>1476</td>\n",
              "      <td>1476</td>\n",
              "      <td>1476</td>\n",
              "      <td>1476</td>\n",
              "      <td>1476</td>\n",
              "      <td>1476</td>\n",
              "    </tr>\n",
              "    <tr>\n",
              "      <th>1</th>\n",
              "      <td>1467</td>\n",
              "      <td>1467</td>\n",
              "      <td>1467</td>\n",
              "      <td>1467</td>\n",
              "      <td>1467</td>\n",
              "      <td>1467</td>\n",
              "      <td>1467</td>\n",
              "      <td>1467</td>\n",
              "      <td>1467</td>\n",
              "      <td>1467</td>\n",
              "      <td>1467</td>\n",
              "      <td>1467</td>\n",
              "      <td>1467</td>\n",
              "      <td>1467</td>\n",
              "      <td>1467</td>\n",
              "    </tr>\n",
              "    <tr>\n",
              "      <th>2</th>\n",
              "      <td>1356</td>\n",
              "      <td>1356</td>\n",
              "      <td>1356</td>\n",
              "      <td>1356</td>\n",
              "      <td>1356</td>\n",
              "      <td>1356</td>\n",
              "      <td>1356</td>\n",
              "      <td>1356</td>\n",
              "      <td>1356</td>\n",
              "      <td>1356</td>\n",
              "      <td>1356</td>\n",
              "      <td>1356</td>\n",
              "      <td>1356</td>\n",
              "      <td>1356</td>\n",
              "      <td>1356</td>\n",
              "    </tr>\n",
              "    <tr>\n",
              "      <th>3</th>\n",
              "      <td>1884</td>\n",
              "      <td>1884</td>\n",
              "      <td>1884</td>\n",
              "      <td>1884</td>\n",
              "      <td>1884</td>\n",
              "      <td>1884</td>\n",
              "      <td>1884</td>\n",
              "      <td>1884</td>\n",
              "      <td>1884</td>\n",
              "      <td>1884</td>\n",
              "      <td>1884</td>\n",
              "      <td>1884</td>\n",
              "      <td>1884</td>\n",
              "      <td>1884</td>\n",
              "      <td>1884</td>\n",
              "    </tr>\n",
              "  </tbody>\n",
              "</table>\n",
              "</div>"
            ],
            "text/plain": [
              "        price  rating_count_tot  rating_count_ver  ...  free  size_megabytes  game\n",
              "labels                                             ...                            \n",
              "-1         78                78                78  ...    78              78    78\n",
              " 0       1476              1476              1476  ...  1476            1476  1476\n",
              " 1       1467              1467              1467  ...  1467            1467  1467\n",
              " 2       1356              1356              1356  ...  1356            1356  1356\n",
              " 3       1884              1884              1884  ...  1884            1884  1884\n",
              "\n",
              "[5 rows x 15 columns]"
            ]
          },
          "metadata": {
            "tags": []
          },
          "execution_count": 24
        }
      ]
    },
    {
      "cell_type": "code",
      "metadata": {
        "id": "oEnTb6iCMq_b",
        "colab_type": "code",
        "outputId": "00590225-1dd3-40ac-e0f4-ce5763037456",
        "colab": {
          "base_uri": "https://localhost:8080/",
          "height": 441
        }
      },
      "source": [
        "#VISUALIZE\n",
        "fig = plt.figure(figsize=(12,6))\n",
        "plt_ind=1\n",
        "for i in range(0,4):\n",
        "    cl = df['labels'] == i\n",
        "    sp =fig.add_subplot(2,2,plt_ind)  \n",
        "    plt.hist(df[cl]['rating_count_tot'], log = True)\n",
        "    plt_ind+=1\n",
        "\n",
        "plt.tight_layout()\n",
        "plt.show()"
      ],
      "execution_count": 0,
      "outputs": [
        {
          "output_type": "display_data",
          "data": {
            "image/png": "[encoded data removed]",
            "text/plain": [
              "<Figure size 864x432 with 4 Axes>"
            ]
          },
          "metadata": {
            "tags": []
          }
        }
      ]
    },
    {
      "cell_type": "code",
      "metadata": {
        "id": "P4TR5_EZ5OVb",
        "colab_type": "code",
        "outputId": "4e6e524c-a1ef-4f12-8ec8-7a0482f08db1",
        "colab": {
          "base_uri": "https://localhost:8080/",
          "height": 441
        }
      },
      "source": [
        "#VISUALIZE\n",
        "fig = plt.figure(figsize=(12,6))\n",
        "plt_ind=1\n",
        "for i in range(0,4):\n",
        "    cl = df['labels'] == i\n",
        "    sp =fig.add_subplot(2,2,plt_ind)  \n",
        "    plt.hist(df[cl]['prime_genre'], log = True)\n",
        "    plt_ind+=1\n",
        "\n",
        "plt.tight_layout()\n",
        "plt.show()"
      ],
      "execution_count": 0,
      "outputs": [
        {
          "output_type": "display_data",
          "data": {
            "image/png": "[encoded data removed]",
            "text/plain": [
              "<Figure size 864x432 with 4 Axes>"
            ]
          },
          "metadata": {
            "tags": []
          }
        }
      ]
    },
    {
      "cell_type": "code",
      "metadata": {
        "id": "ygvGSOPk9APO",
        "colab_type": "code",
        "outputId": "02984169-acb1-4d4b-8b74-7e7aad101347",
        "colab": {
          "base_uri": "https://localhost:8080/",
          "height": 441
        }
      },
      "source": [
        "#VISUALIZE\n",
        "fig = plt.figure(figsize=(12,6))\n",
        "plt_ind=1\n",
        "for i in range(0,4):\n",
        "    cl = df['labels'] == i\n",
        "    sp =fig.add_subplot(2,2,plt_ind)  \n",
        "    plt.hist(df[cl]['price'], log = True)\n",
        "    plt_ind+=1\n",
        "\n",
        "plt.tight_layout()\n",
        "plt.show()"
      ],
      "execution_count": 0,
      "outputs": [
        {
          "output_type": "display_data",
          "data": {
            "image/png": "[encoded data removed]",
            "text/plain": [
              "<Figure size 864x432 with 4 Axes>"
            ]
          },
          "metadata": {
            "tags": []
          }
        }
      ]
    },
    {
      "cell_type": "code",
      "metadata": {
        "id": "59cXr-GSSecA",
        "colab_type": "code",
        "outputId": "155451c9-8d09-4999-8387-1e1e0be30a94",
        "colab": {
          "base_uri": "https://localhost:8080/",
          "height": 35
        }
      },
      "source": [
        "#ESTIMATE\n",
        "sil_score_dbscan = silhouette_score (x, dbscan.labels_)\n",
        "sil_score_dbscan"
      ],
      "execution_count": 0,
      "outputs": [
        {
          "output_type": "execute_result",
          "data": {
            "text/plain": [
              "0.397276794904324"
            ]
          },
          "metadata": {
            "tags": []
          },
          "execution_count": 28
        }
      ]
    },
    {
      "cell_type": "code",
      "metadata": {
        "id": "fg28Rs_uoR4S",
        "colab_type": "code",
        "outputId": "30006eb9-43ba-4b46-d106-1d10713e7923",
        "colab": {
          "base_uri": "https://localhost:8080/",
          "height": 265
        }
      },
      "source": [
        "#KMEANS\n",
        "\n",
        "Ks = range(1, 10)\n",
        "km = [KMeans(n_clusters=i) for i in Ks]\n",
        "score = [km[i].fit(x).score(x) for i in range(len(km))]\n",
        "score\n",
        "plt.plot(Ks, score)\n",
        "#dobili smo elbow 4 klastera\n",
        "plt.scatter(4, score[3], c='red')\n"
      ],
      "execution_count": 0,
      "outputs": [
        {
          "output_type": "display_data",
          "data": {
            "image/png": "[encoded data removed]",
            "text/plain": [
              "<Figure size 432x288 with 1 Axes>"
            ]
          },
          "metadata": {
            "tags": []
          }
        }
      ]
    },
    {
      "cell_type": "code",
      "metadata": {
        "id": "KHPu0EJXxqMk",
        "colab_type": "code",
        "outputId": "37b197ee-d1c6-4ac3-84cb-5e257caafe3b",
        "colab": {
          "base_uri": "https://localhost:8080/",
          "height": 35
        }
      },
      "source": [
        "kmeans = KMeans(n_clusters=4)\n",
        "kmeans.fit(x)\n",
        "max(kmeans.labels_)"
      ],
      "execution_count": 0,
      "outputs": [
        {
          "output_type": "execute_result",
          "data": {
            "text/plain": [
              "3"
            ]
          },
          "metadata": {
            "tags": []
          },
          "execution_count": 30
        }
      ]
    },
    {
      "cell_type": "code",
      "metadata": {
        "id": "hENDgluHx4LT",
        "colab_type": "code",
        "outputId": "dfbd0d0e-830c-4827-d4ff-d032179bb500",
        "colab": {
          "base_uri": "https://localhost:8080/",
          "height": 226
        }
      },
      "source": [
        "\n",
        "df['labels'] = kmeans.labels_\n",
        "df.groupby('labels').count()"
      ],
      "execution_count": 0,
      "outputs": [
        {
          "output_type": "execute_result",
          "data": {
            "text/html": [
              "<div>\n",
              "<style scoped>\n",
              "    .dataframe tbody tr th:only-of-type {\n",
              "        vertical-align: middle;\n",
              "    }\n",
              "\n",
              "    .dataframe tbody tr th {\n",
              "        vertical-align: top;\n",
              "    }\n",
              "\n",
              "    .dataframe thead th {\n",
              "        text-align: right;\n",
              "    }\n",
              "</style>\n",
              "<table border=\"1\" class=\"dataframe\">\n",
              "  <thead>\n",
              "    <tr style=\"text-align: right;\">\n",
              "      <th></th>\n",
              "      <th>price</th>\n",
              "      <th>rating_count_tot</th>\n",
              "      <th>rating_count_ver</th>\n",
              "      <th>user_rating</th>\n",
              "      <th>user_rating_ver</th>\n",
              "      <th>ver</th>\n",
              "      <th>cont_rating</th>\n",
              "      <th>prime_genre</th>\n",
              "      <th>sup_devices.num</th>\n",
              "      <th>ipadSc_urls.num</th>\n",
              "      <th>lang.num</th>\n",
              "      <th>vpp_lic</th>\n",
              "      <th>free</th>\n",
              "      <th>size_megabytes</th>\n",
              "      <th>game</th>\n",
              "    </tr>\n",
              "    <tr>\n",
              "      <th>labels</th>\n",
              "      <th></th>\n",
              "      <th></th>\n",
              "      <th></th>\n",
              "      <th></th>\n",
              "      <th></th>\n",
              "      <th></th>\n",
              "      <th></th>\n",
              "      <th></th>\n",
              "      <th></th>\n",
              "      <th></th>\n",
              "      <th></th>\n",
              "      <th></th>\n",
              "      <th></th>\n",
              "      <th></th>\n",
              "      <th></th>\n",
              "    </tr>\n",
              "  </thead>\n",
              "  <tbody>\n",
              "    <tr>\n",
              "      <th>0</th>\n",
              "      <td>1893</td>\n",
              "      <td>1893</td>\n",
              "      <td>1893</td>\n",
              "      <td>1893</td>\n",
              "      <td>1893</td>\n",
              "      <td>1893</td>\n",
              "      <td>1893</td>\n",
              "      <td>1893</td>\n",
              "      <td>1893</td>\n",
              "      <td>1893</td>\n",
              "      <td>1893</td>\n",
              "      <td>1893</td>\n",
              "      <td>1893</td>\n",
              "      <td>1893</td>\n",
              "      <td>1893</td>\n",
              "    </tr>\n",
              "    <tr>\n",
              "      <th>1</th>\n",
              "      <td>1371</td>\n",
              "      <td>1371</td>\n",
              "      <td>1371</td>\n",
              "      <td>1371</td>\n",
              "      <td>1371</td>\n",
              "      <td>1371</td>\n",
              "      <td>1371</td>\n",
              "      <td>1371</td>\n",
              "      <td>1371</td>\n",
              "      <td>1371</td>\n",
              "      <td>1371</td>\n",
              "      <td>1371</td>\n",
              "      <td>1371</td>\n",
              "      <td>1371</td>\n",
              "      <td>1371</td>\n",
              "    </tr>\n",
              "    <tr>\n",
              "      <th>2</th>\n",
              "      <td>1507</td>\n",
              "      <td>1507</td>\n",
              "      <td>1507</td>\n",
              "      <td>1507</td>\n",
              "      <td>1507</td>\n",
              "      <td>1507</td>\n",
              "      <td>1507</td>\n",
              "      <td>1507</td>\n",
              "      <td>1507</td>\n",
              "      <td>1507</td>\n",
              "      <td>1507</td>\n",
              "      <td>1507</td>\n",
              "      <td>1507</td>\n",
              "      <td>1507</td>\n",
              "      <td>1507</td>\n",
              "    </tr>\n",
              "    <tr>\n",
              "      <th>3</th>\n",
              "      <td>1490</td>\n",
              "      <td>1490</td>\n",
              "      <td>1490</td>\n",
              "      <td>1490</td>\n",
              "      <td>1490</td>\n",
              "      <td>1490</td>\n",
              "      <td>1490</td>\n",
              "      <td>1490</td>\n",
              "      <td>1490</td>\n",
              "      <td>1490</td>\n",
              "      <td>1490</td>\n",
              "      <td>1490</td>\n",
              "      <td>1490</td>\n",
              "      <td>1490</td>\n",
              "      <td>1490</td>\n",
              "    </tr>\n",
              "  </tbody>\n",
              "</table>\n",
              "</div>"
            ],
            "text/plain": [
              "        price  rating_count_tot  rating_count_ver  ...  free  size_megabytes  game\n",
              "labels                                             ...                            \n",
              "0        1893              1893              1893  ...  1893            1893  1893\n",
              "1        1371              1371              1371  ...  1371            1371  1371\n",
              "2        1507              1507              1507  ...  1507            1507  1507\n",
              "3        1490              1490              1490  ...  1490            1490  1490\n",
              "\n",
              "[4 rows x 15 columns]"
            ]
          },
          "metadata": {
            "tags": []
          },
          "execution_count": 31
        }
      ]
    },
    {
      "cell_type": "code",
      "metadata": {
        "id": "tGH6hiqrXldO",
        "colab_type": "code",
        "outputId": "342e2f88-7280-4c3a-ddc5-07e0ea0ecba2",
        "colab": {
          "base_uri": "https://localhost:8080/",
          "height": 441
        }
      },
      "source": [
        "#VISUALIZE\n",
        "fig = plt.figure(figsize=(12,6))\n",
        "plt_ind=1\n",
        "for i in range(0,4):\n",
        "    cl = df['labels'] == i\n",
        "    sp =fig.add_subplot(2,2,plt_ind)  \n",
        "    plt.hist(df[cl]['rating_count_tot'], log = True)\n",
        "    plt_ind+=1\n",
        "\n",
        "plt.tight_layout()\n",
        "plt.show()"
      ],
      "execution_count": 0,
      "outputs": [
        {
          "output_type": "display_data",
          "data": {
            "image/png": "[encoded data removed]",
            "text/plain": [
              "<Figure size 864x432 with 4 Axes>"
            ]
          },
          "metadata": {
            "tags": []
          }
        }
      ]
    },
    {
      "cell_type": "code",
      "metadata": {
        "id": "j_OlzWl6XmOm",
        "colab_type": "code",
        "outputId": "29e4cd3a-57db-430f-8feb-0fe5cc92994a",
        "colab": {
          "base_uri": "https://localhost:8080/",
          "height": 441
        }
      },
      "source": [
        "#VISUALIZE\n",
        "fig = plt.figure(figsize=(12,6))\n",
        "plt_ind=1\n",
        "for i in range(0,4):\n",
        "    cl = df['labels'] == i\n",
        "    sp =fig.add_subplot(2,2,plt_ind)  \n",
        "    plt.hist(df[cl]['prime_genre'], log = True)\n",
        "    plt_ind+=1\n",
        "\n",
        "plt.tight_layout()\n",
        "plt.show()"
      ],
      "execution_count": 0,
      "outputs": [
        {
          "output_type": "display_data",
          "data": {
            "image/png": "[encoded data removed]",
            "text/plain": [
              "<Figure size 864x432 with 4 Axes>"
            ]
          },
          "metadata": {
            "tags": []
          }
        }
      ]
    },
    {
      "cell_type": "code",
      "metadata": {
        "id": "HHXfmU8nz42k",
        "colab_type": "code",
        "outputId": "2fabe1f4-b3b5-4c4f-a786-2a6040336ff1",
        "colab": {
          "base_uri": "https://localhost:8080/",
          "height": 441
        }
      },
      "source": [
        "#VISUALIZE\n",
        "fig = plt.figure(figsize=(12,6))\n",
        "plt_ind=1\n",
        "for i in range(0,4):\n",
        "    cl = df['labels'] == i\n",
        "    sp =fig.add_subplot(2,2,plt_ind)  \n",
        "    plt.hist(df[cl]['price'], log = True)\n",
        "    plt_ind+=1\n",
        "\n",
        "plt.tight_layout()\n",
        "plt.show()"
      ],
      "execution_count": 0,
      "outputs": [
        {
          "output_type": "display_data",
          "data": {
            "image/png": "[encoded data removed]",
            "text/plain": [
              "<Figure size 864x432 with 4 Axes>"
            ]
          },
          "metadata": {
            "tags": []
          }
        }
      ]
    },
    {
      "cell_type": "code",
      "metadata": {
        "id": "mbWWEY4yW2pj",
        "colab_type": "code",
        "outputId": "ce75f5d6-e2c3-4f88-9732-f29f48e3fa22",
        "colab": {
          "base_uri": "https://localhost:8080/",
          "height": 35
        }
      },
      "source": [
        "#ESTIMATE\n",
        "sil_score_kmeans = silhouette_score (x, kmeans.labels_)\n",
        "sil_score_kmeans"
      ],
      "execution_count": 0,
      "outputs": [
        {
          "output_type": "execute_result",
          "data": {
            "text/plain": [
              "0.3999265029181792"
            ]
          },
          "metadata": {
            "tags": []
          },
          "execution_count": 35
        }
      ]
    },
    {
      "cell_type": "code",
      "metadata": {
        "id": "Sd7VsmLTKRP1",
        "colab_type": "code",
        "outputId": "7a00b4c7-59b7-4c63-801d-37cb551a84ca",
        "colab": {
          "base_uri": "https://localhost:8080/",
          "height": 35
        }
      },
      "source": [
        "#GAUSSIAN\n",
        "\n",
        "gaussian = GaussianMixture(n_components=4)\n",
        "labels = gaussian.fit_predict(x)\n",
        "max(labels)"
      ],
      "execution_count": 0,
      "outputs": [
        {
          "output_type": "execute_result",
          "data": {
            "text/plain": [
              "3"
            ]
          },
          "metadata": {
            "tags": []
          },
          "execution_count": 42
        }
      ]
    },
    {
      "cell_type": "code",
      "metadata": {
        "id": "5kbM9n1tKcsj",
        "colab_type": "code",
        "outputId": "41d52d75-4758-40cc-f4a5-858c1f39c8a9",
        "colab": {
          "base_uri": "https://localhost:8080/",
          "height": 226
        }
      },
      "source": [
        "df['labels'] = labels\n",
        "df.groupby('labels').count()"
      ],
      "execution_count": 0,
      "outputs": [
        {
          "output_type": "execute_result",
          "data": {
            "text/html": [
              "<div>\n",
              "<style scoped>\n",
              "    .dataframe tbody tr th:only-of-type {\n",
              "        vertical-align: middle;\n",
              "    }\n",
              "\n",
              "    .dataframe tbody tr th {\n",
              "        vertical-align: top;\n",
              "    }\n",
              "\n",
              "    .dataframe thead th {\n",
              "        text-align: right;\n",
              "    }\n",
              "</style>\n",
              "<table border=\"1\" class=\"dataframe\">\n",
              "  <thead>\n",
              "    <tr style=\"text-align: right;\">\n",
              "      <th></th>\n",
              "      <th>price</th>\n",
              "      <th>rating_count_tot</th>\n",
              "      <th>rating_count_ver</th>\n",
              "      <th>user_rating</th>\n",
              "      <th>user_rating_ver</th>\n",
              "      <th>ver</th>\n",
              "      <th>cont_rating</th>\n",
              "      <th>prime_genre</th>\n",
              "      <th>sup_devices.num</th>\n",
              "      <th>ipadSc_urls.num</th>\n",
              "      <th>lang.num</th>\n",
              "      <th>vpp_lic</th>\n",
              "      <th>free</th>\n",
              "      <th>size_megabytes</th>\n",
              "      <th>game</th>\n",
              "    </tr>\n",
              "    <tr>\n",
              "      <th>labels</th>\n",
              "      <th></th>\n",
              "      <th></th>\n",
              "      <th></th>\n",
              "      <th></th>\n",
              "      <th></th>\n",
              "      <th></th>\n",
              "      <th></th>\n",
              "      <th></th>\n",
              "      <th></th>\n",
              "      <th></th>\n",
              "      <th></th>\n",
              "      <th></th>\n",
              "      <th></th>\n",
              "      <th></th>\n",
              "      <th></th>\n",
              "    </tr>\n",
              "  </thead>\n",
              "  <tbody>\n",
              "    <tr>\n",
              "      <th>0</th>\n",
              "      <td>1893</td>\n",
              "      <td>1893</td>\n",
              "      <td>1893</td>\n",
              "      <td>1893</td>\n",
              "      <td>1893</td>\n",
              "      <td>1893</td>\n",
              "      <td>1893</td>\n",
              "      <td>1893</td>\n",
              "      <td>1893</td>\n",
              "      <td>1893</td>\n",
              "      <td>1893</td>\n",
              "      <td>1893</td>\n",
              "      <td>1893</td>\n",
              "      <td>1893</td>\n",
              "      <td>1893</td>\n",
              "    </tr>\n",
              "    <tr>\n",
              "      <th>1</th>\n",
              "      <td>1371</td>\n",
              "      <td>1371</td>\n",
              "      <td>1371</td>\n",
              "      <td>1371</td>\n",
              "      <td>1371</td>\n",
              "      <td>1371</td>\n",
              "      <td>1371</td>\n",
              "      <td>1371</td>\n",
              "      <td>1371</td>\n",
              "      <td>1371</td>\n",
              "      <td>1371</td>\n",
              "      <td>1371</td>\n",
              "      <td>1371</td>\n",
              "      <td>1371</td>\n",
              "      <td>1371</td>\n",
              "    </tr>\n",
              "    <tr>\n",
              "      <th>2</th>\n",
              "      <td>1507</td>\n",
              "      <td>1507</td>\n",
              "      <td>1507</td>\n",
              "      <td>1507</td>\n",
              "      <td>1507</td>\n",
              "      <td>1507</td>\n",
              "      <td>1507</td>\n",
              "      <td>1507</td>\n",
              "      <td>1507</td>\n",
              "      <td>1507</td>\n",
              "      <td>1507</td>\n",
              "      <td>1507</td>\n",
              "      <td>1507</td>\n",
              "      <td>1507</td>\n",
              "      <td>1507</td>\n",
              "    </tr>\n",
              "    <tr>\n",
              "      <th>3</th>\n",
              "      <td>1490</td>\n",
              "      <td>1490</td>\n",
              "      <td>1490</td>\n",
              "      <td>1490</td>\n",
              "      <td>1490</td>\n",
              "      <td>1490</td>\n",
              "      <td>1490</td>\n",
              "      <td>1490</td>\n",
              "      <td>1490</td>\n",
              "      <td>1490</td>\n",
              "      <td>1490</td>\n",
              "      <td>1490</td>\n",
              "      <td>1490</td>\n",
              "      <td>1490</td>\n",
              "      <td>1490</td>\n",
              "    </tr>\n",
              "  </tbody>\n",
              "</table>\n",
              "</div>"
            ],
            "text/plain": [
              "        price  rating_count_tot  rating_count_ver  ...  free  size_megabytes  game\n",
              "labels                                             ...                            \n",
              "0        1893              1893              1893  ...  1893            1893  1893\n",
              "1        1371              1371              1371  ...  1371            1371  1371\n",
              "2        1507              1507              1507  ...  1507            1507  1507\n",
              "3        1490              1490              1490  ...  1490            1490  1490\n",
              "\n",
              "[4 rows x 15 columns]"
            ]
          },
          "metadata": {
            "tags": []
          },
          "execution_count": 43
        }
      ]
    },
    {
      "cell_type": "code",
      "metadata": {
        "id": "G-ixZ4pYX8Zm",
        "colab_type": "code",
        "outputId": "f0dd9b5b-643a-4848-ecae-d9c4ed020c48",
        "colab": {
          "base_uri": "https://localhost:8080/",
          "height": 441
        }
      },
      "source": [
        "#VISUALIZE\n",
        "fig = plt.figure(figsize=(12,6))\n",
        "plt_ind=1\n",
        "for i in range(0,4):\n",
        "    cl = df['labels'] == i\n",
        "    sp =fig.add_subplot(2,2,plt_ind)  \n",
        "    plt.hist(df[cl]['rating_count_tot'], log = True)\n",
        "    plt_ind+=1\n",
        "\n",
        "plt.tight_layout()\n",
        "plt.show()"
      ],
      "execution_count": 0,
      "outputs": [
        {
          "output_type": "display_data",
          "data": {
            "image/png": "[encoded data removed]",
            "text/plain": [
              "<Figure size 864x432 with 4 Axes>"
            ]
          },
          "metadata": {
            "tags": []
          }
        }
      ]
    },
    {
      "cell_type": "code",
      "metadata": {
        "id": "msxaK4E6X89X",
        "colab_type": "code",
        "outputId": "f968bd1b-aa46-4e3d-9926-9840d2a75daf",
        "colab": {
          "base_uri": "https://localhost:8080/",
          "height": 441
        }
      },
      "source": [
        "#VISUALIZE\n",
        "fig = plt.figure(figsize=(12,6))\n",
        "plt_ind=1\n",
        "for i in range(0,4):\n",
        "    cl = df['labels'] == i\n",
        "    sp =fig.add_subplot(2,2,plt_ind)  \n",
        "    plt.hist(df[cl]['prime_genre'], log = True)\n",
        "    plt_ind+=1\n",
        "\n",
        "plt.tight_layout()\n",
        "plt.show()"
      ],
      "execution_count": 0,
      "outputs": [
        {
          "output_type": "display_data",
          "data": {
            "image/png": "[encoded data removed]",
            "text/plain": [
              "<Figure size 864x432 with 4 Axes>"
            ]
          },
          "metadata": {
            "tags": []
          }
        }
      ]
    },
    {
      "cell_type": "code",
      "metadata": {
        "id": "_l_5fcSGX9jZ",
        "colab_type": "code",
        "outputId": "dbe9deda-88fb-4948-efc5-28333f93433f",
        "colab": {
          "base_uri": "https://localhost:8080/",
          "height": 441
        }
      },
      "source": [
        "#VISUALIZE\n",
        "fig = plt.figure(figsize=(12,6))\n",
        "plt_ind=1\n",
        "for i in range(0,4):\n",
        "    cl = df['labels'] == i\n",
        "    sp =fig.add_subplot(2,2,plt_ind)  \n",
        "    plt.hist(df[cl]['price'], log = True)\n",
        "    plt_ind+=1\n",
        "\n",
        "plt.tight_layout()\n",
        "plt.show()"
      ],
      "execution_count": 0,
      "outputs": [
        {
          "output_type": "display_data",
          "data": {
            "image/png": "[encoded data removed]",
            "text/plain": [
              "<Figure size 864x432 with 4 Axes>"
            ]
          },
          "metadata": {
            "tags": []
          }
        }
      ]
    },
    {
      "cell_type": "code",
      "metadata": {
        "id": "rDhuujhRaPMt",
        "colab_type": "code",
        "outputId": "b4b17ec8-a11c-4dd5-d29f-e295513e3ad9",
        "colab": {
          "base_uri": "https://localhost:8080/",
          "height": 35
        }
      },
      "source": [
        "#ESTIMATE\n",
        "sil_score_gaussian = silhouette_score (x, labels)\n",
        "sil_score_gaussian"
      ],
      "execution_count": 0,
      "outputs": [
        {
          "output_type": "execute_result",
          "data": {
            "text/plain": [
              "0.3999265029181792"
            ]
          },
          "metadata": {
            "tags": []
          },
          "execution_count": 47
        }
      ]
    }
  ]
}